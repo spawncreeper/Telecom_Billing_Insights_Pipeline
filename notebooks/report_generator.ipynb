{
 "cells": [
  {
   "cell_type": "code",
   "execution_count": null,
   "id": "80c4b22e",
   "metadata": {},
   "outputs": [
    {
     "ename": "SyntaxError",
     "evalue": "invalid syntax (2335432607.py, line 71)",
     "output_type": "error",
     "traceback": [
      "\u001b[1;36m  Cell \u001b[1;32mIn[8], line 71\u001b[1;36m\u001b[0m\n\u001b[1;33m    ***\u001b[0m\n\u001b[1;37m    ^\u001b[0m\n\u001b[1;31mSyntaxError\u001b[0m\u001b[1;31m:\u001b[0m invalid syntax\n"
     ]
    }
   ],
   "source": [
    "import pandas as pd\n",
    "import plotly.express as px\n",
    "\n",
    "# Load the cleaned data from the processed folder\n",
    "cleaned_file_path = '../data/processed/cleaned_data.csv'\n",
    "df_cleaned = pd.read_csv(cleaned_file_path)\n",
    "\n",
    "# Calculate key insights\n",
    "churn_by_contract = df_cleaned.groupby('Contract')['Churn_numeric'].mean() * 100\n",
    "arpu_by_churn = df_cleaned.groupby('Churn')['MonthlyCharges'].mean()\n",
    "overall_churn_rate = df_cleaned['Churn_numeric'].mean() * 100\n",
    "\n",
    "# To include the charts, you need to save them as static images first.\n",
    "# This requires the 'kaleido' library.\n",
    "# If you don't have it, run: pip install kaleido\n",
    "fig1 = px.bar(\n",
    "    churn_by_contract.reset_index(),\n",
    "    x='Contract',\n",
    "    y='Churn_numeric',\n",
    "    title='Churn Rate by Contract Type'\n",
    ")\n",
    "fig1.write_image(\"../reports/churn_by_contract.png\")\n",
    "\n",
    "fig2 = px.bar(\n",
    "    arpu_by_churn.reset_index(),\n",
    "    x='Churn',\n",
    "    y='MonthlyCharges',\n",
    "    title='ARPU by Churn Status'\n",
    ")\n",
    "fig2.write_image(\"../reports/arpu_by_churn.png\")\n",
    "\n",
    "# Now, create the Markdown content as a multi-line string\n",
    "report_md = f\"\"\"\n",
    "# Telecom Billing Insights Report\n",
    "\n",
    "This report provides key insights from customer billing data, helping to improve decision-making and business strategy.\n",
    "\n",
    "## Key Performance Indicators (KPIs)\n",
    "\n",
    "* **Overall Churn Rate**: {overall_churn_rate:.2f}%\n",
    "\n",
    "---\n",
    "\n",
    "## Insight 1: Churn by Contract Type\n",
    "![Churn Rate by Contract Type](../reports/churn_by_contract.png)\n",
    "\n",
    "The chart above shows how customer churn changes based on contract length.\n",
    "\n",
    "### Explainable AI (What this means for the business) 🤖\n",
    "\n",
    "This is a major business insight. Our **month-to-month** customers are leaving at a very high rate—nearly half of them. This tells us they don't feel committed to our service. In contrast, our **two-year** contract customers are extremely loyal, with almost no churn. This is a call to action to create incentives for short-term customers to sign a longer contract.\n",
    "\n",
    "---\n",
    "\n",
    "## Insight 2: Average Revenue Per User (ARPU)\n",
    "![ARPU by Churn Status](../reports/arpu_by_churn.png)\n",
    "\n",
    "This chart compares the average monthly revenue from customers who left versus those who stayed.\n",
    "\n",
    "### Explainable AI (What the business should do) 💡\n",
    "\n",
    "This finding is both surprising and important. We're losing our **highest-value customers**—the ones who spend the most each month. This means we can't just focus on acquiring new customers; we must prioritize the retention of our premium users. We should consider launching a dedicated customer success program or special perks for our high-spending clients to ensure they feel valued and stay with us.\n",
    "\"\"\"\n",
    "\n",
    "# Save the Markdown report to a file\n",
    "with open(\"../reports/monthly_report.md\", \"w\", encoding='utf-8') as f:\n",
    "    f.write(report_md)\n",
    "\n",
    "print(\"Markdown report saved to 'reports/monthly_report.md'\")"
   ]
  }
 ],
 "metadata": {
  "kernelspec": {
   "display_name": ".venv",
   "language": "python",
   "name": "python3"
  },
  "language_info": {
   "codemirror_mode": {
    "name": "ipython",
    "version": 3
   },
   "file_extension": ".py",
   "mimetype": "text/x-python",
   "name": "python",
   "nbconvert_exporter": "python",
   "pygments_lexer": "ipython3",
   "version": "3.10.11"
  }
 },
 "nbformat": 4,
 "nbformat_minor": 5
}
